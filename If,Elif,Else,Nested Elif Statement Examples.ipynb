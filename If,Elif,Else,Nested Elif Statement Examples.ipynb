{
 "cells": [
  {
   "cell_type": "code",
   "execution_count": 1,
   "metadata": {},
   "outputs": [
    {
     "ename": "SyntaxError",
     "evalue": "unexpected EOF while parsing (<ipython-input-1-2759f5d87dde>, line 2)",
     "output_type": "error",
     "traceback": [
      "\u001b[1;36m  File \u001b[1;32m\"<ipython-input-1-2759f5d87dde>\"\u001b[1;36m, line \u001b[1;32m2\u001b[0m\n\u001b[1;33m    if a<10:\u001b[0m\n\u001b[1;37m            ^\u001b[0m\n\u001b[1;31mSyntaxError\u001b[0m\u001b[1;31m:\u001b[0m unexpected EOF while parsing\n"
     ]
    }
   ],
   "source": [
    "a=input(\"Enter a integer\")\n",
    "if a<10:"
   ]
  },
  {
   "cell_type": "code",
   "execution_count": 2,
   "metadata": {},
   "outputs": [
    {
     "name": "stdout",
     "output_type": "stream",
     "text": [
      "Enter a integer 13\n"
     ]
    },
    {
     "ename": "TypeError",
     "evalue": "'<' not supported between instances of 'str' and 'int'",
     "output_type": "error",
     "traceback": [
      "\u001b[1;31m---------------------------------------------------------------------------\u001b[0m",
      "\u001b[1;31mTypeError\u001b[0m                                 Traceback (most recent call last)",
      "\u001b[1;32m<ipython-input-2-0b6fb3530f29>\u001b[0m in \u001b[0;36m<module>\u001b[1;34m\u001b[0m\n\u001b[0;32m      1\u001b[0m \u001b[0ma\u001b[0m\u001b[1;33m=\u001b[0m\u001b[0minput\u001b[0m\u001b[1;33m(\u001b[0m\u001b[1;34m\"Enter a integer\"\u001b[0m\u001b[1;33m)\u001b[0m\u001b[1;33m\u001b[0m\u001b[1;33m\u001b[0m\u001b[0m\n\u001b[1;32m----> 2\u001b[1;33m \u001b[1;32mif\u001b[0m \u001b[0ma\u001b[0m\u001b[1;33m<\u001b[0m\u001b[1;36m10\u001b[0m\u001b[1;33m:\u001b[0m\u001b[1;33m\u001b[0m\u001b[1;33m\u001b[0m\u001b[0m\n\u001b[0m\u001b[0;32m      3\u001b[0m     \u001b[1;32mpass\u001b[0m\u001b[1;33m\u001b[0m\u001b[1;33m\u001b[0m\u001b[0m\n",
      "\u001b[1;31mTypeError\u001b[0m: '<' not supported between instances of 'str' and 'int'"
     ]
    }
   ],
   "source": [
    "a=input(\"Enter a integer\")\n",
    "if a<10:\n",
    "    pass"
   ]
  },
  {
   "cell_type": "code",
   "execution_count": 6,
   "metadata": {},
   "outputs": [
    {
     "name": "stdout",
     "output_type": "stream",
     "text": [
      "Enter a integer  12\n"
     ]
    }
   ],
   "source": [
    "#a=input(int(\"Enter a integer\"))\n",
    "a=int(input(\"Enter a integer\"))\n",
    "if a<10:\n",
    "    pass"
   ]
  },
  {
   "cell_type": "code",
   "execution_count": 7,
   "metadata": {},
   "outputs": [
    {
     "name": "stdout",
     "output_type": "stream",
     "text": [
      "Enter a integer 12\n",
      "print is lesser than 20\n"
     ]
    }
   ],
   "source": [
    "b=int(input(\"Enter a integer\"))\n",
    "if b<20:\n",
    "    print(\"print is lesser than 20\")\n",
    "    "
   ]
  },
  {
   "cell_type": "code",
   "execution_count": 9,
   "metadata": {},
   "outputs": [
    {
     "ename": "SyntaxError",
     "evalue": "invalid syntax (<ipython-input-9-df72646ddf22>, line 2)",
     "output_type": "error",
     "traceback": [
      "\u001b[1;36m  File \u001b[1;32m\"<ipython-input-9-df72646ddf22>\"\u001b[1;36m, line \u001b[1;32m2\u001b[0m\n\u001b[1;33m    if b<20\u001b[0m\n\u001b[1;37m           ^\u001b[0m\n\u001b[1;31mSyntaxError\u001b[0m\u001b[1;31m:\u001b[0m invalid syntax\n"
     ]
    }
   ],
   "source": [
    "c=int(input(\"Enter a integer\"))\n",
    "if b<20\n",
    "    print(\"print is lesser than 20\")\n",
    "    "
   ]
  },
  {
   "cell_type": "code",
   "execution_count": 14,
   "metadata": {},
   "outputs": [
    {
     "name": "stdout",
     "output_type": "stream",
     "text": [
      "Enter a integer 12\n",
      "print is lesser than 20\n"
     ]
    }
   ],
   "source": [
    "c=int(input(\"Enter a integer\"))\n",
    "if b<20:\n",
    "    print(\"print is lesser than 20\")\n",
    "else:\n",
    "    pass\n",
    "    "
   ]
  },
  {
   "cell_type": "code",
   "execution_count": 16,
   "metadata": {},
   "outputs": [
    {
     "name": "stdout",
     "output_type": "stream",
     "text": [
      "Enter a integer  23\n"
     ]
    }
   ],
   "source": [
    "c=int(input(\"Enter a integer\"))\n",
    "if c<20:\n",
    "    print(\"print is lesser than 20\")\n",
    "else:\n",
    "    pass"
   ]
  },
  {
   "cell_type": "code",
   "execution_count": 17,
   "metadata": {},
   "outputs": [
    {
     "name": "stdout",
     "output_type": "stream",
     "text": [
      "Enter a integer  19\n",
      "print is lesser than 20\n"
     ]
    }
   ],
   "source": [
    "c=int(input(\"Enter a integer\"))\n",
    "if c<20:\n",
    "    print(\"print is lesser than 20\")\n",
    "else:\n",
    "    pass"
   ]
  },
  {
   "cell_type": "code",
   "execution_count": 18,
   "metadata": {},
   "outputs": [
    {
     "name": "stdout",
     "output_type": "stream",
     "text": [
      "Enter a integer 19\n",
      "print is lesser than 20\n",
      "integer is not lesser than 20\n"
     ]
    }
   ],
   "source": [
    "c=int(input(\"Enter a integer\"))\n",
    "if c<20:\n",
    "    print(\"print is lesser than 20\")\n",
    "else:\n",
    "    pass\n",
    "print(\"integer is not lesser than 20\")"
   ]
  },
  {
   "cell_type": "code",
   "execution_count": 19,
   "metadata": {},
   "outputs": [
    {
     "name": "stdout",
     "output_type": "stream",
     "text": [
      "Enter a integer  21\n",
      "integer is not lesser than 20\n"
     ]
    }
   ],
   "source": [
    "c=int(input(\"Enter a integer\"))\n",
    "if c<20:\n",
    "    print(\"print is lesser than 20\")\n",
    "else:\n",
    "    pass\n",
    "print(\"integer is not lesser than 20\")"
   ]
  },
  {
   "cell_type": "code",
   "execution_count": 20,
   "metadata": {},
   "outputs": [
    {
     "data": {
      "text/plain": [
       "50"
      ]
     },
     "execution_count": 20,
     "metadata": {},
     "output_type": "execute_result"
    }
   ],
   "source": [
    "a=20\n",
    "b=30\n",
    "a+b"
   ]
  },
  {
   "cell_type": "markdown",
   "metadata": {},
   "source": [
    "Q)Cab choose option depends on Fare Estimation --- Travel From KPHB TO BHEL\n",
    "  (Use only if,elif else)\n",
    "\n",
    "\n"
   ]
  },
  {
   "cell_type": "code",
   "execution_count": 21,
   "metadata": {},
   "outputs": [
    {
     "name": "stdout",
     "output_type": "stream",
     "text": [
      "Distance in KM     32\n",
      "Fare in Rupees       315\n"
     ]
    },
    {
     "ename": "TypeError",
     "evalue": "'<' not supported between instances of 'str' and 'int'",
     "output_type": "error",
     "traceback": [
      "\u001b[1;31m---------------------------------------------------------------------------\u001b[0m",
      "\u001b[1;31mTypeError\u001b[0m                                 Traceback (most recent call last)",
      "\u001b[1;32m<ipython-input-21-5a455d9bd195>\u001b[0m in \u001b[0;36m<module>\u001b[1;34m\u001b[0m\n\u001b[0;32m      1\u001b[0m \u001b[0mD\u001b[0m\u001b[1;33m=\u001b[0m\u001b[0minput\u001b[0m\u001b[1;33m(\u001b[0m\u001b[1;34m\"Distance in KM\"\u001b[0m\u001b[1;33m)\u001b[0m\u001b[1;33m\u001b[0m\u001b[1;33m\u001b[0m\u001b[0m\n\u001b[0;32m      2\u001b[0m \u001b[0mF\u001b[0m\u001b[1;33m=\u001b[0m\u001b[0minput\u001b[0m\u001b[1;33m(\u001b[0m\u001b[1;34m\"Fare in Rupees\"\u001b[0m\u001b[1;33m)\u001b[0m\u001b[1;33m\u001b[0m\u001b[1;33m\u001b[0m\u001b[0m\n\u001b[1;32m----> 3\u001b[1;33m \u001b[1;32mif\u001b[0m \u001b[0mF\u001b[0m\u001b[1;33m<\u001b[0m\u001b[1;36m330\u001b[0m\u001b[1;33m:\u001b[0m\u001b[1;33m\u001b[0m\u001b[1;33m\u001b[0m\u001b[0m\n\u001b[0m\u001b[0;32m      4\u001b[0m     \u001b[1;33m(\u001b[0m\u001b[1;34m\"I will choose OLA\"\u001b[0m\u001b[1;33m)\u001b[0m\u001b[1;33m\u001b[0m\u001b[1;33m\u001b[0m\u001b[0m\n\u001b[0;32m      5\u001b[0m \u001b[1;32melif\u001b[0m \u001b[0mF\u001b[0m\u001b[1;33m<\u001b[0m\u001b[1;36m300\u001b[0m\u001b[1;33m:\u001b[0m\u001b[1;33m\u001b[0m\u001b[1;33m\u001b[0m\u001b[0m\n",
      "\u001b[1;31mTypeError\u001b[0m: '<' not supported between instances of 'str' and 'int'"
     ]
    }
   ],
   "source": [
    "D=input(\"Distance in KM\")\n",
    "F=input(\"Fare in Rupees\")\n",
    "if F<330:\n",
    "    (\"I will choose OLA\")\n",
    "elif F<300:\n",
    "    (\"I Will choose UBER\")\n",
    "elif F<500:\n",
    "    (\"I will choose Rapido\")\n",
    "else:\n",
    "    print(\"I will choose Bus to Travel From KPHB to BHEL\")\n",
    "    "
   ]
  },
  {
   "cell_type": "code",
   "execution_count": 22,
   "metadata": {},
   "outputs": [
    {
     "name": "stdout",
     "output_type": "stream",
     "text": [
      "Distance in KM  32\n",
      "Fare in Rupees 312\n"
     ]
    }
   ],
   "source": [
    "D=int(input(\"Distance in KM\"))\n",
    "F=int(input(\"Fare in Rupees\"))\n",
    "if F<330:\n",
    "    (\"I will choose OLA\") #Here I missed Print that's why output not came\n",
    "elif F<300:\n",
    "    (\"I Will choose UBER\") #Here I missed print that's why output not came\n",
    "elif F<500:\n",
    "    (\"I will choose Rapido\") #Here I missed print that's why output not came\n",
    "else:\n",
    "    print(\"I will choose Bus to Travel From KPHB to BHEL\")\n",
    "    \n",
    "    "
   ]
  },
  {
   "cell_type": "code",
   "execution_count": 24,
   "metadata": {},
   "outputs": [
    {
     "name": "stdout",
     "output_type": "stream",
     "text": [
      "Distance in KM 32\n",
      "Fare in Rupees312\n",
      "I will choose OLA\n"
     ]
    }
   ],
   "source": [
    "D=int(input(\"Distance in KM\"))\n",
    "F=int(input(\"Fare in Rupees\"))\n",
    "if F<330:\n",
    "    print((\"I will choose OLA\")) \n",
    "elif F<300:\n",
    "    print((\"I Will choose UBER\"))\n",
    "elif F<500:\n",
    "    print((\"I will choose Rapido\")) \n",
    "else:\n",
    "    print(\"I will choose Bus to Travel From KPHB to BHEL\")\n",
    "    "
   ]
  },
  {
   "cell_type": "code",
   "execution_count": 26,
   "metadata": {},
   "outputs": [
    {
     "name": "stdout",
     "output_type": "stream",
     "text": [
      "Distance in KM 32\n",
      "Fare in Rupees340\n",
      "I will choose Rapido\n"
     ]
    }
   ],
   "source": [
    "D=int(input(\"Distance in KM\"))\n",
    "F=int(input(\"Fare in Rupees\"))\n",
    "if F<330:\n",
    "    print((\"I will choose OLA\")) \n",
    "elif F<300:\n",
    "    print((\"I Will choose UBER\"))\n",
    "elif F<500:\n",
    "    print((\"I will choose Rapido\")) \n",
    "else:\n",
    "    print(\"I will choose Bus to Travel From KPHB to BHEL\")"
   ]
  },
  {
   "cell_type": "code",
   "execution_count": 27,
   "metadata": {},
   "outputs": [
    {
     "name": "stdout",
     "output_type": "stream",
     "text": [
      "Distance in KM 32\n",
      "Fare in Rupees  523\n",
      "I will choose Bus to Travel From KPHB to BHEL\n"
     ]
    }
   ],
   "source": [
    "D=int(input(\"Distance in KM\"))\n",
    "F=int(input(\"Fare in Rupees\"))\n",
    "if F<330:\n",
    "    print((\"I will choose OLA\")) \n",
    "elif F<300:\n",
    "    print((\"I Will choose UBER\"))\n",
    "elif F<500:\n",
    "    print((\"I will choose Rapido\")) \n",
    "else:\n",
    "    print(\"I will choose Bus to Travel From KPHB to BHEL\")"
   ]
  },
  {
   "cell_type": "code",
   "execution_count": 29,
   "metadata": {},
   "outputs": [
    {
     "name": "stdout",
     "output_type": "stream",
     "text": [
      "Required Loan Amount  1200000\n",
      "I will go with the SBI\n"
     ]
    }
   ],
   "source": [
    "P=int(input(\"Required Loan Amount\"))\n",
    "if P<500000:\n",
    "    print(\"I will choose HDFC\")\n",
    "elif P<1000000:\n",
    "    print(\"I will choose AXIS\")\n",
    "elif P>1200000:\n",
    "    print(\"I will choose IDFC\")\n",
    "else:\n",
    "    print(\"I will go with the SBI\")\n",
    "\n"
   ]
  },
  {
   "cell_type": "code",
   "execution_count": 31,
   "metadata": {},
   "outputs": [
    {
     "name": "stdout",
     "output_type": "stream",
     "text": [
      "Required Loan Amount  1300000\n",
      "I will choose IDFC\n"
     ]
    }
   ],
   "source": [
    "P=int(input(\"Required Loan Amount\"))\n",
    "if P<500000:\n",
    "    print(\"I will choose HDFC\")\n",
    "elif P<1000000:\n",
    "    print(\"I will choose AXIS\")\n",
    "elif P>1200000:\n",
    "    print(\"I will choose IDFC\")\n",
    "else:\n",
    "    print(\"I will go with the SBI\")\n",
    "\n"
   ]
  },
  {
   "cell_type": "code",
   "execution_count": 32,
   "metadata": {},
   "outputs": [
    {
     "name": "stdout",
     "output_type": "stream",
     "text": [
      "Required Loan Amount  1100000\n",
      "I will go with the SBI\n"
     ]
    }
   ],
   "source": [
    "P=int(input(\"Required Loan Amount\"))\n",
    "if P<500000:\n",
    "    print(\"I will choose HDFC\")\n",
    "elif P<1000000:\n",
    "    print(\"I will choose AXIS\")\n",
    "elif P>1200000:\n",
    "    print(\"I will choose IDFC\")\n",
    "else:\n",
    "    print(\"I will go with the SBI\")"
   ]
  },
  {
   "cell_type": "code",
   "execution_count": 34,
   "metadata": {},
   "outputs": [
    {
     "name": "stdout",
     "output_type": "stream",
     "text": [
      " Required GB per month   1\n",
      "TATA DOCOMO\n"
     ]
    }
   ],
   "source": [
    "O=int(input(\" Required GB per month\"))\n",
    "if O<2:\n",
    "    print(\"TATA DOCOMO\")\n",
    "elif O>3:\n",
    "    print(\" AIRTEL\")\n",
    "elif O<5:\n",
    "    print(\" JIO\")\n",
    "else:\n",
    "    print(\"I will choose BSNL\")"
   ]
  },
  {
   "cell_type": "code",
   "execution_count": 35,
   "metadata": {},
   "outputs": [
    {
     "name": "stdout",
     "output_type": "stream",
     "text": [
      " Required GB per month   2\n",
      " JIO\n"
     ]
    }
   ],
   "source": [
    "O=int(input(\" Required GB per month\"))\n",
    "if O<2:\n",
    "    print(\"TATA DOCOMO\")\n",
    "elif O>3:\n",
    "    print(\" AIRTEL\")\n",
    "elif O<5:\n",
    "    print(\" JIO\")\n",
    "else:\n",
    "    print(\"I will choose BSNL\") "
   ]
  },
  {
   "cell_type": "code",
   "execution_count": 36,
   "metadata": {},
   "outputs": [
    {
     "name": "stdout",
     "output_type": "stream",
     "text": [
      " Required GB per month 4\n",
      " AIRTEL\n"
     ]
    }
   ],
   "source": [
    "O=int(input(\" Required GB per month\"))\n",
    "if O<2:\n",
    "    print(\"TATA DOCOMO\")\n",
    "elif O>3:\n",
    "    print(\" AIRTEL\")\n",
    "elif O<5:\n",
    "    print(\" JIO\")\n",
    "else:\n",
    "    print(\"I will choose BSNL\")\n",
    "#Control will go line by line    "
   ]
  },
  {
   "cell_type": "code",
   "execution_count": 37,
   "metadata": {},
   "outputs": [
    {
     "name": "stdout",
     "output_type": "stream",
     "text": [
      " Required GB per month  6\n",
      " AIRTEL\n"
     ]
    }
   ],
   "source": [
    "O=int(input(\" Required GB per month\"))\n",
    "if O<2:\n",
    "    print(\"TATA DOCOMO\")\n",
    "elif O>3:\n",
    "    print(\" AIRTEL\")\n",
    "elif O<5:\n",
    "    print(\" JIO\")\n",
    "else:\n",
    "    print(\"I will choose BSNL\")"
   ]
  },
  {
   "cell_type": "code",
   "execution_count": 45,
   "metadata": {},
   "outputs": [
    {
     "name": "stdout",
     "output_type": "stream",
     "text": [
      "  2\n",
      "This is True\n"
     ]
    }
   ],
   "source": [
    "a=int(input())\n",
    "if a<2.5:\n",
    "    print(\"This is True\")"
   ]
  },
  {
   "cell_type": "code",
   "execution_count": 43,
   "metadata": {},
   "outputs": [
    {
     "data": {
      "text/plain": [
       "2"
      ]
     },
     "execution_count": 43,
     "metadata": {},
     "output_type": "execute_result"
    }
   ],
   "source": [
    "a"
   ]
  },
  {
   "cell_type": "code",
   "execution_count": 44,
   "metadata": {},
   "outputs": [
    {
     "data": {
      "text/plain": [
       "True"
      ]
     },
     "execution_count": 44,
     "metadata": {},
     "output_type": "execute_result"
    }
   ],
   "source": [
    "a<2.5"
   ]
  },
  {
   "cell_type": "code",
   "execution_count": 46,
   "metadata": {},
   "outputs": [
    {
     "ename": "SyntaxError",
     "evalue": "invalid syntax (<ipython-input-46-b6ca9598df9e>, line 1)",
     "output_type": "error",
     "traceback": [
      "\u001b[1;36m  File \u001b[1;32m\"<ipython-input-46-b6ca9598df9e>\"\u001b[1;36m, line \u001b[1;32m1\u001b[0m\n\u001b[1;33m    A=int(input(Money available in pocket))\u001b[0m\n\u001b[1;37m                      ^\u001b[0m\n\u001b[1;31mSyntaxError\u001b[0m\u001b[1;31m:\u001b[0m invalid syntax\n"
     ]
    }
   ],
   "source": [
    "A=int(input(Money available in pocket))"
   ]
  },
  {
   "cell_type": "code",
   "execution_count": 2,
   "metadata": {},
   "outputs": [
    {
     "name": "stdout",
     "output_type": "stream",
     "text": [
      "Money available in wallet 30\n",
      "RRR\n",
      "SCREEN1\n"
     ]
    }
   ],
   "source": [
    "A=int(input(\"Money available in wallet\"))\n",
    "if A<100:\n",
    "    print(\"RRR\")\n",
    "    if A<50:\n",
    "        print(\"SCREEN1\")\n",
    "        if A<20:\n",
    "            print(\"Chair\")\n",
    "else:\n",
    "    print(\"Nothing\")\n",
    "        \n"
   ]
  },
  {
   "cell_type": "code",
   "execution_count": 3,
   "metadata": {},
   "outputs": [
    {
     "name": "stdout",
     "output_type": "stream",
     "text": [
      "Money available in wallet 30\n",
      "RRR\n",
      "SCREEN1\n",
      "HOUSE FULL\n"
     ]
    }
   ],
   "source": [
    "A=int(input(\"Money available in wallet\"))\n",
    "if A<100:\n",
    "    print(\"RRR\")\n",
    "    if A<50:\n",
    "        print(\"SCREEN1\")\n",
    "        if A<20:\n",
    "            print(\"Chair\")\n",
    "        else:\n",
    "            print(\"HOUSE FULL\")\n",
    "else:\n",
    "    print(\"Nothing\")"
   ]
  },
  {
   "cell_type": "code",
   "execution_count": 4,
   "metadata": {},
   "outputs": [
    {
     "name": "stdout",
     "output_type": "stream",
     "text": [
      "Money available in wallet  15\n",
      "RRR\n",
      "SCREEN1\n",
      "Chair\n"
     ]
    }
   ],
   "source": [
    "A=int(input(\"Money available in wallet\"))\n",
    "if A<100:\n",
    "    print(\"RRR\")\n",
    "    if A<50:\n",
    "        print(\"SCREEN1\")\n",
    "        if A<20:\n",
    "            print(\"Chair\")\n",
    "        else:\n",
    "            print(\"HOUSE FULL\")\n",
    "else:\n",
    "    print(\"Nothing\")"
   ]
  },
  {
   "cell_type": "code",
   "execution_count": 5,
   "metadata": {},
   "outputs": [
    {
     "name": "stdout",
     "output_type": "stream",
     "text": [
      "Money available in wallet   120\n",
      "Nothing\n"
     ]
    }
   ],
   "source": [
    "A=int(input(\"Money available in wallet\"))\n",
    "if A<100:\n",
    "    print(\"RRR\")\n",
    "    if A<50:\n",
    "        print(\"SCREEN1\")\n",
    "        if A<20:\n",
    "            print(\"Chair\")\n",
    "        else:\n",
    "            print(\"HOUSE FULL\")\n",
    "else:\n",
    "    print(\"Nothing\")"
   ]
  },
  {
   "cell_type": "code",
   "execution_count": 6,
   "metadata": {},
   "outputs": [
    {
     "name": "stdout",
     "output_type": "stream",
     "text": [
      "Money available in wallet  120\n",
      "Nothing\n"
     ]
    }
   ],
   "source": [
    "A=int(input(\"Money available in wallet\"))\n",
    "if A<100:\n",
    "    print(\"RRR\")\n",
    "    if A<50:\n",
    "        print(\"SCREEN1\")\n",
    "        if A<20:\n",
    "            print(\"Bench\")\n",
    "        else:\n",
    "            print(\"HOUSE FULL\")\n",
    "elif A<120:\n",
    "    print(\"Balcony\")\n",
    "else:\n",
    "    print(\"Nothing\")\n",
    "    "
   ]
  },
  {
   "cell_type": "code",
   "execution_count": 7,
   "metadata": {},
   "outputs": [
    {
     "name": "stdout",
     "output_type": "stream",
     "text": [
      "Money available in wallet  110\n",
      "Balcony\n"
     ]
    }
   ],
   "source": [
    "A=int(input(\"Money available in wallet\"))\n",
    "if A<100:\n",
    "    print(\"RRR\")\n",
    "    if A<50:\n",
    "        print(\"SCREEN1\")\n",
    "        if A<20:\n",
    "            print(\"Bench\")\n",
    "        else:\n",
    "            print(\"HOUSE FULL\")\n",
    "elif A<120:\n",
    "    print(\"Balcony\")\n",
    "else:\n",
    "    print(\"Nothing\")\n",
    "    "
   ]
  },
  {
   "cell_type": "code",
   "execution_count": 10,
   "metadata": {},
   "outputs": [
    {
     "ename": "SyntaxError",
     "evalue": "invalid syntax (<ipython-input-10-7f36dd2ee2af>, line 12)",
     "output_type": "error",
     "traceback": [
      "\u001b[1;36m  File \u001b[1;32m\"<ipython-input-10-7f36dd2ee2af>\"\u001b[1;36m, line \u001b[1;32m12\u001b[0m\n\u001b[1;33m    elif A<120:\u001b[0m\n\u001b[1;37m    ^\u001b[0m\n\u001b[1;31mSyntaxError\u001b[0m\u001b[1;31m:\u001b[0m invalid syntax\n"
     ]
    }
   ],
   "source": [
    "A=int(input(\"Money available in wallet\"))\n",
    "if A<100:\n",
    "    print(\"RRR\")\n",
    "else:\n",
    "    print(\"NOT READY TO GO NEXT STEP\")\n",
    "    if A<50:\n",
    "        print(\"SCREEN1\")\n",
    "        if A<20:\n",
    "            print(\"Bench\")\n",
    "        else:\n",
    "            print(\"HOUSE FULL\")\n",
    "elif A<120: #Here control telling that syntax issue bcz if and else block already closed\n",
    "    print(\"Balcony\")\n",
    "else:\n",
    "    print(\"Nothing\")"
   ]
  },
  {
   "cell_type": "code",
   "execution_count": 11,
   "metadata": {},
   "outputs": [
    {
     "name": "stdout",
     "output_type": "stream",
     "text": [
      "Money available in wallet  120\n",
      "NOT READY TO GO NEXT STEP\n",
      "Balcony\n",
      "Nothing\n"
     ]
    }
   ],
   "source": [
    "A=int(input(\"Money available in wallet\"))\n",
    "if A<100:\n",
    "    print(\"RRR\")\n",
    "else:\n",
    "    print(\"NOT READY TO GO NEXT STEP\")\n",
    "    if A<50:\n",
    "        print(\"SCREEN1\")\n",
    "        if A<20:\n",
    "            print(\"Bench\")\n",
    "        else:\n",
    "            print(\"HOUSE FULL\")\n",
    "#elif A<120:\n",
    "    print(\"Balcony\")#Here control is printed this line BCZ this is like a normal print.\n",
    "#else:\n",
    "    print(\"Nothing\")#Here control is printed this line BCZ this is like a normal print."
   ]
  },
  {
   "cell_type": "code",
   "execution_count": 12,
   "metadata": {},
   "outputs": [
    {
     "name": "stdout",
     "output_type": "stream",
     "text": [
      "Money available in wallet    60\n",
      "RRR\n",
      "AM NOT READY TO GO NEXT STEP\n",
      "HOUSE FULL\n"
     ]
    }
   ],
   "source": [
    "A=int(input(\"Money available in wallet\"))\n",
    "if A<100:\n",
    "    print(\"RRR\")\n",
    "    if A<50:\n",
    "        print(\"SCREEN1\")\n",
    "    else:\n",
    "        print(\"AM NOT READY TO GO NEXT STEP\")\n",
    "        if A<20:\n",
    "            print(\"BENCH\")\n",
    "        else:\n",
    "            print(\"HOUSE FULL\")\n",
    "elif A<120:\n",
    "    print(\"Balcony\")\n",
    "else:\n",
    "    print(\"Nothing\")\n",
    "    "
   ]
  },
  {
   "cell_type": "code",
   "execution_count": 13,
   "metadata": {},
   "outputs": [
    {
     "name": "stdout",
     "output_type": "stream",
     "text": [
      "Money available in wallet   120\n",
      "Nothing\n"
     ]
    }
   ],
   "source": [
    "A=int(input(\"Money available in wallet\"))\n",
    "if A<100:\n",
    "    print(\"RRR\")\n",
    "    if A<50:\n",
    "        print(\"SCREEN1\")\n",
    "    else:\n",
    "        print(\"AM NOT READY TO GO NEXT STEP\")\n",
    "        if A<20:\n",
    "            print(\"BENCH\")\n",
    "        else:\n",
    "            print(\"HOUSE FULL\")\n",
    "elif A<120:\n",
    "    print(\"Balcony\")\n",
    "else:\n",
    "    print(\"Nothing\")"
   ]
  },
  {
   "cell_type": "code",
   "execution_count": 17,
   "metadata": {},
   "outputs": [
    {
     "ename": "SyntaxError",
     "evalue": "invalid syntax (<ipython-input-17-6aa375f4f450>, line 4)",
     "output_type": "error",
     "traceback": [
      "\u001b[1;36m  File \u001b[1;32m\"<ipython-input-17-6aa375f4f450>\"\u001b[1;36m, line \u001b[1;32m4\u001b[0m\n\u001b[1;33m    elif A<50:\u001b[0m\n\u001b[1;37m    ^\u001b[0m\n\u001b[1;31mSyntaxError\u001b[0m\u001b[1;31m:\u001b[0m invalid syntax\n"
     ]
    }
   ],
   "source": [
    "A=int(input(\"Money available in wallet\"))\n",
    "if A<100:\n",
    "    print(\"RRR\")\n",
    "    elif A<50:\n",
    "        print(\"SCREEN1\")\n",
    "    else:\n",
    "        print(\"AM NOT READY TO GO NEXT STEP\")\n",
    "        elif A<20:\n",
    "            print(\"BENCH\")\n",
    "        else:\n",
    "            print(\"HOUSE FULL\")\n",
    "elif A<120:\n",
    "    print(\"Balcony\")\n",
    "else:\n",
    "    print(\"Nothing\")"
   ]
  },
  {
   "cell_type": "code",
   "execution_count": 15,
   "metadata": {},
   "outputs": [
    {
     "ename": "SyntaxError",
     "evalue": "invalid syntax (<ipython-input-15-a8a4c54f75d2>, line 8)",
     "output_type": "error",
     "traceback": [
      "\u001b[1;36m  File \u001b[1;32m\"<ipython-input-15-a8a4c54f75d2>\"\u001b[1;36m, line \u001b[1;32m8\u001b[0m\n\u001b[1;33m    elif A<20:\u001b[0m\n\u001b[1;37m    ^\u001b[0m\n\u001b[1;31mSyntaxError\u001b[0m\u001b[1;31m:\u001b[0m invalid syntax\n"
     ]
    }
   ],
   "source": [
    "A=int(input(\"Money available in wallet\"))\n",
    "if A<100:\n",
    "    print(\"RRR\")\n",
    "    if A<50:\n",
    "        print(\"SCREEN1\")\n",
    "    else:\n",
    "        print(\"AM NOT READY TO GO NEXT STEP\")\n",
    "        elif A<20:\n",
    "            print(\"BENCH\")\n",
    "        else:\n",
    "            print(\"HOUSE FULL\")\n",
    "elif A<120:\n",
    "    print(\"Balcony\")\n",
    "else:\n",
    "    print(\"Nothing\")"
   ]
  },
  {
   "cell_type": "code",
   "execution_count": 18,
   "metadata": {},
   "outputs": [
    {
     "name": "stdout",
     "output_type": "stream",
     "text": [
      "LAPTOP FARE   22000\n",
      "HP\n"
     ]
    }
   ],
   "source": [
    "L=int(input(\"LAPTOP FARE\"))\n",
    "if L<20000:\n",
    "    print(\"DELL\")\n",
    "elif L<23000:\n",
    "    print(\"HP\")\n",
    "else:\n",
    "    print(\"Nothing\")\n"
   ]
  },
  {
   "cell_type": "code",
   "execution_count": 19,
   "metadata": {},
   "outputs": [
    {
     "ename": "SyntaxError",
     "evalue": "invalid syntax (<ipython-input-19-59e1386c9291>, line 6)",
     "output_type": "error",
     "traceback": [
      "\u001b[1;36m  File \u001b[1;32m\"<ipython-input-19-59e1386c9291>\"\u001b[1;36m, line \u001b[1;32m6\u001b[0m\n\u001b[1;33m    elif L<23000:\u001b[0m\n\u001b[1;37m    ^\u001b[0m\n\u001b[1;31mSyntaxError\u001b[0m\u001b[1;31m:\u001b[0m invalid syntax\n"
     ]
    }
   ],
   "source": [
    "L=int(input(\"LAPTOP FARE\"))\n",
    "if L<20000:\n",
    "    print(\"DELL\")\n",
    "else:\n",
    "    print(\"Nothing\")\n",
    "elif L<23000:\n",
    "    print(\"HP\")    "
   ]
  },
  {
   "cell_type": "code",
   "execution_count": 25,
   "metadata": {},
   "outputs": [
    {
     "ename": "SyntaxError",
     "evalue": "invalid syntax (<ipython-input-25-30965158bb32>, line 4)",
     "output_type": "error",
     "traceback": [
      "\u001b[1;36m  File \u001b[1;32m\"<ipython-input-25-30965158bb32>\"\u001b[1;36m, line \u001b[1;32m4\u001b[0m\n\u001b[1;33m    elif L<23000:\u001b[0m\n\u001b[1;37m    ^\u001b[0m\n\u001b[1;31mSyntaxError\u001b[0m\u001b[1;31m:\u001b[0m invalid syntax\n"
     ]
    }
   ],
   "source": [
    "L=int(input(\"LAPTOP FARE\"))\n",
    "if L<20000:\n",
    "    print(\"DELL\")\n",
    "    elif L<23000:\n",
    "    print(\"HP\") \n",
    "else:\n",
    "    print(\"Nothing\")\n"
   ]
  },
  {
   "cell_type": "code",
   "execution_count": 24,
   "metadata": {},
   "outputs": [
    {
     "ename": "IndentationError",
     "evalue": "unindent does not match any outer indentation level (<tokenize>, line 4)",
     "output_type": "error",
     "traceback": [
      "\u001b[1;36m  File \u001b[1;32m\"<tokenize>\"\u001b[1;36m, line \u001b[1;32m4\u001b[0m\n\u001b[1;33m    elif L<23000:\u001b[0m\n\u001b[1;37m    ^\u001b[0m\n\u001b[1;31mIndentationError\u001b[0m\u001b[1;31m:\u001b[0m unindent does not match any outer indentation level\n"
     ]
    }
   ],
   "source": [
    "L=int(input(\"LAPTOP FARE\"))\n",
    "if L<20000:\n",
    "    print(\"DELL\")\n",
    " elif L<23000:\n",
    "    print(\"HP\") \n",
    "else:\n",
    "    print(\"Nothing\")"
   ]
  },
  {
   "cell_type": "code",
   "execution_count": 27,
   "metadata": {},
   "outputs": [
    {
     "ename": "SyntaxError",
     "evalue": "invalid syntax (<ipython-input-27-016f3642c536>, line 4)",
     "output_type": "error",
     "traceback": [
      "\u001b[1;36m  File \u001b[1;32m\"<ipython-input-27-016f3642c536>\"\u001b[1;36m, line \u001b[1;32m4\u001b[0m\n\u001b[1;33m    elif A<120:\u001b[0m\n\u001b[1;37m    ^\u001b[0m\n\u001b[1;31mSyntaxError\u001b[0m\u001b[1;31m:\u001b[0m invalid syntax\n"
     ]
    }
   ],
   "source": [
    "A=int(input(\"Money available in wallet\"))\n",
    "if A<100:\n",
    "    print(\"RRR\")\n",
    "    elif A<120:\n",
    "        print(\"SCREEN1\")\n",
    "    else:\n",
    "        print(\"AM NOT READY TO GO NEXT STEP\")\n",
    "        elif A<20:\n",
    "            print(\"BENCH\")\n",
    "        else:\n",
    "            print(\"HOUSE FULL\")\n",
    "elif A<120:\n",
    "    print(\"Balcony\")\n",
    "else:\n",
    "    print(\"Nothing\")"
   ]
  },
  {
   "cell_type": "code",
   "execution_count": 28,
   "metadata": {},
   "outputs": [
    {
     "name": "stdout",
     "output_type": "stream",
     "text": [
      "LAPTOP FARE    22000\n",
      "HP\n"
     ]
    }
   ],
   "source": [
    "L=int(input(\"LAPTOP FARE\"))\n",
    "if L<20000:\n",
    "    print(\"DELL\")\n",
    "elif L<23000:\n",
    "    print(\"HP\") \n"
   ]
  },
  {
   "cell_type": "code",
   "execution_count": 29,
   "metadata": {},
   "outputs": [
    {
     "name": "stdout",
     "output_type": "stream",
     "text": [
      "LAPTOP FARE 25000\n"
     ]
    }
   ],
   "source": [
    "L=int(input(\"LAPTOP FARE\"))\n",
    "if L<20000:\n",
    "    print(\"DELL\")\n",
    "elif L<23000:\n",
    "    print(\"HP\") \n"
   ]
  },
  {
   "cell_type": "code",
   "execution_count": null,
   "metadata": {},
   "outputs": [],
   "source": []
  }
 ],
 "metadata": {
  "kernelspec": {
   "display_name": "Python 3",
   "language": "python",
   "name": "python3"
  },
  "language_info": {
   "codemirror_mode": {
    "name": "ipython",
    "version": 3
   },
   "file_extension": ".py",
   "mimetype": "text/x-python",
   "name": "python",
   "nbconvert_exporter": "python",
   "pygments_lexer": "ipython3",
   "version": "3.8.5"
  }
 },
 "nbformat": 4,
 "nbformat_minor": 4
}
